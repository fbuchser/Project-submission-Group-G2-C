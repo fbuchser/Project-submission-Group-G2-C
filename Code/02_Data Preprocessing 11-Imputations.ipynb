{
 "cells": [
  {
   "cell_type": "markdown",
   "metadata": {},
   "source": [
    "# Imputation Code for Jupyter Euler Server\n",
    "\n",
    "To make the imputation on the Euler server as easy as possible, we made a seperate file for you to just copy this code into the Euler Server and work with the designated Euler folder."
   ]
  },
  {
   "cell_type": "markdown",
   "metadata": {},
   "source": [
    "----\n",
    "Process:\n",
    "\n",
    "We opened a Jupyterhub Euler Server (https://jupyter.euler.hpc.ethz.ch/hub/login?next=%2Fhub%2F) with the following specifications:\n",
    "- 25 CPU Cores\n",
    "- 0 GPUs\n",
    "- 32 GB RAM\n",
    "- 12 hours Run Time\n",
    "\n",
    "\n",
    "We copied the Euler folder and all it's content and this file into Jupyterhub.\n",
    "- This file (02_Data Preprocessing 11-Imputations.ipynb)\n",
    "- Euler folder\n",
    "  - Data\n",
    "    - X_test.csv\n",
    "    - X_train.csv\n",
    "    - X.csv\n",
    "  - Output\n",
    "    - (empty)\n",
    "\n",
    "And now we ran the imputation.\n",
    "\n",
    "The Imputation took 8.22 hours - for this whole duration there needs to be a vpn-connection, see to it that your device does not go into sleep mode in the mean time and break the connection.\n",
    "\n",
    "----"
   ]
  },
  {
   "cell_type": "markdown",
   "metadata": {},
   "source": [
    "Import packages:"
   ]
  },
  {
   "cell_type": "code",
   "execution_count": 2,
   "metadata": {},
   "outputs": [],
   "source": [
    "import pandas as pd\n",
    "\n",
    "# 11\n",
    "import time\n",
    "from sklearn.experimental import enable_iterative_imputer\n",
    "from sklearn.impute import IterativeImputer\n",
    "from sklearn.ensemble import RandomForestRegressor"
   ]
  },
  {
   "cell_type": "markdown",
   "metadata": {},
   "source": [
    "Import data sets:"
   ]
  },
  {
   "cell_type": "code",
   "execution_count": 4,
   "metadata": {},
   "outputs": [],
   "source": [
    "X = pd.read_csv(\"./Euler folder/Data/X.csv\", header=0)\n",
    "\n",
    "X_train = pd.read_csv(\"./Euler folder/Data/X_train.csv\", header=0)\n",
    "X_test = pd.read_csv(\"./Euler folder/Data/X_test.csv\", header=0)\n",
    "\n",
    "# Convert pandas DataFrame to numpy array\n",
    "X_train, X_test = (\n",
    "    np.array(X_train),\n",
    "    np.array(X_test),\n",
    ")"
   ]
  },
  {
   "cell_type": "markdown",
   "metadata": {},
   "source": [
    "Imputation:"
   ]
  },
  {
   "cell_type": "code",
   "execution_count": null,
   "metadata": {},
   "outputs": [],
   "source": [
    "# Estimator\n",
    "est = RandomForestRegressor(\n",
    "        n_jobs=-1, # The number of jobs to run in parallel. 1 means using all processors. # 20 CPU cores on euler -> 496.10 minutes (~8.27h)\n",
    "        random_state=42,\n",
    "        n_estimators=50, # Half of default to reduce compution time.\n",
    "    )\n",
    "\n",
    "# Imputer\n",
    "imp = IterativeImputer(\n",
    "        estimator=est,\n",
    "        random_state=42,\n",
    "        max_iter=5, # Half of default to reduce compution time.\n",
    "    )\n",
    "\n",
    "# Imputing process\n",
    "t1_train = time.time()\n",
    "X_train_imputed = imp.fit_transform(X_train)\n",
    "t2_train = time.time()\n",
    "\n",
    "t1_test = time.time()\n",
    "X_test_imputed = imp.transform(X_test)\n",
    "t2_test = time.time()\n",
    "\n",
    "# Save Imputed Data\n",
    "df_X_train_imputed = pd.DataFrame(X_train_imputed)\n",
    "df_X_test_imputed = pd.DataFrame(X_test_imputed)\n",
    "\n",
    "# Add names to imputed data\n",
    "df_X_train_imputed.columns = X.columns\n",
    "df_X_test_imputed.columns = X.columns\n",
    "\n",
    "print(f\"The training imputation process took {(t2_train - t1_train) / 60:.2f} minutes.\")\n",
    "print(f\"The testing imputation process took {(t2_test - t1_test) / 60:.2f} minutes.\")\n",
    "print()"
   ]
  },
  {
   "cell_type": "markdown",
   "metadata": {},
   "source": [
    "Save files:"
   ]
  },
  {
   "cell_type": "code",
   "execution_count": null,
   "metadata": {},
   "outputs": [],
   "source": [
    "# Save Imputed data to .csv file\n",
    "df_X_train_imputed.to_csv(\"./Euler folder/Output/X_train_imputed.csv\", sep=',', index=False, encoding='utf-8')\n",
    "df_X_test_imputed.to_csv(\"./Euler folder/Output/X_test_imputed.csv\", sep=',', index=False, encoding='utf-8')"
   ]
  },
  {
   "cell_type": "markdown",
   "metadata": {},
   "source": [
    "----\n",
    "Now copy the output into the folder \"./Output/Data/02 11-Imputations\".\n",
    "\n",
    "We already provide these files in our submission, so 02_Data Preprocessing runs in it's entirety without you running this imputation.\n",
    "\n",
    "But like this you can run the imputation on the server without a lot of extra effort. \n",
    "\n",
    "----"
   ]
  }
 ],
 "metadata": {
  "kernelspec": {
   "display_name": "envFoDS_Project",
   "language": "python",
   "name": "python3"
  },
  "language_info": {
   "codemirror_mode": {
    "name": "ipython",
    "version": 3
   },
   "file_extension": ".py",
   "mimetype": "text/x-python",
   "name": "python",
   "nbconvert_exporter": "python",
   "pygments_lexer": "ipython3",
   "version": "3.11.7"
  }
 },
 "nbformat": 4,
 "nbformat_minor": 2
}
